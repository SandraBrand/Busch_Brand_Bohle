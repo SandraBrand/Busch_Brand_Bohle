{
 "cells": [
  {
   "cell_type": "markdown",
   "metadata": {},
   "source": [
    "# Exercice 1: \n",
    "write a function that takes a filename and then all the urls in the file \"urls.txt\" line by line. Remove the `http://www.` parts of each url and write the urls without `http://www.`part in the file \"domains.txt\". The function returns nothing.\n",
    "\n",
    "Examples:\n",
    "\n",
    "`http://www.rakuten.co.jp` should be `rakuten.co.jp`\n",
    "\n",
    "`http://www.craigslist.org` should be `craigslist.org`\n",
    "\n",
    "`http://www.amazon.de` should be `amazon.de`\n"
   ]
  },
  {
   "cell_type": "code",
   "execution_count": 139,
   "metadata": {},
   "outputs": [],
   "source": [
    "# your code here \n",
    "\n",
    "def get_domain(arr1: str):\n",
    "    \n",
    "    url_list = open('urls.txt') \n",
    "    res = []\n",
    "    \n",
    "    for url in url_list:\n",
    "        domain = url.split('www.')[-1].replace('\\n', '')\n",
    "        res.append(str(domain))\n",
    "        file=open(\"domains.txt\",\"w\")\n",
    "        for i in res:  \n",
    "            file.write(i+'\\n')\n",
    "    file.close()\n"
   ]
  },
  {
   "cell_type": "code",
   "execution_count": 140,
   "metadata": {},
   "outputs": [],
   "source": [
    "get_domain('urls.txt')"
   ]
  },
  {
   "cell_type": "markdown",
   "metadata": {},
   "source": [
    "# Exercice 2: (Hint: Use lists inside a list to write a two dimensional array. Also use a for loop inside a for loop could be helpful) \n",
    "Without using exernal library, create a function which print a matrix `n x n`with `1`on the diagonal, otherwise `0`. The function should take an argument `n`and then print the matrix. \n",
    "\n",
    "Example: \n",
    ". for `n = 3`\n",
    "\n",
    "```python\n",
    "1  0  0\n",
    "0  1  0\n",
    "0  0  1\n",
    "```\n",
    "\n",
    ". for `n = 4`\n",
    "\n",
    "```python\n",
    "1  0  0  0\n",
    "0  1  0  0 \n",
    "0  0  1  0 \n",
    "0  0  0  1\n",
    "```\n",
    "\n",
    "etc...\n",
    "\n"
   ]
  },
  {
   "cell_type": "code",
   "execution_count": 9,
   "metadata": {},
   "outputs": [
    {
     "name": "stdin",
     "output_type": "stream",
     "text": [
      "How many rows? 4\n"
     ]
    },
    {
     "name": "stdout",
     "output_type": "stream",
     "text": [
      "1 0 0 0\n",
      "0 1 0 0\n",
      "0 0 1 0\n",
      "0 0 0 1\n"
     ]
    }
   ],
   "source": [
    "n = int(input(\"How many rows?\"))\n",
    "x = [[0] * n for i in range(n)]\n",
    "for i in range(n):\n",
    "    for j in range(n):\n",
    "        if i < j:\n",
    "            x[i][j] = 0\n",
    "        elif i > j:\n",
    "            x[i][j] = 0\n",
    "        else:\n",
    "            x[i][j] = 1\n",
    "for row in x:\n",
    "    print(' '.join([str(elem) for elem in row]))\n",
    "    "
   ]
  },
  {
   "cell_type": "code",
   "execution_count": null,
   "metadata": {},
   "outputs": [],
   "source": []
  },
  {
   "cell_type": "markdown",
   "metadata": {},
   "source": [
    "# Exercice 3: \n",
    "Without using exernal library, compute the sum of two matrix. The sum of two matrix can be done as shown in the [WIKI-PAGE](https://en.wikipedia.org/wiki/Matrix_addition) . The function should be able to sum both `n x n` matrix and `n x m` matrix. \n",
    "Write a function witch takes two matrix and return the (sum) matrix. \n",
    "\n",
    "You can use the function from exercice 2, to print the result :) "
   ]
  },
  {
   "cell_type": "code",
   "execution_count": null,
   "metadata": {},
   "outputs": [],
   "source": [
    "# your code here \n",
    "def sum_"
   ]
  },
  {
   "cell_type": "code",
   "execution_count": null,
   "metadata": {},
   "outputs": [],
   "source": [
    "# test your functions \n",
    "\n",
    "matrix_1 = [[1,3],[1,0],[1,2]]\n",
    "matrix_2 = [[0,0],[7,5],[2,1]]\n",
    "\n",
    "matrix_3 = [[1,3,2],[2,3,1]]\n",
    "matrix_4 = [[1,6],[0,1]]\n",
    "\n",
    "sum_entrywise = sum_matrix(matrix_1, matrix_2)\n",
    "print(format_print(sum_entrywise))\n",
    "\n",
    "sum_direct_sum = direct_sum(matrix_3, matrix_4)\n",
    "print(format_print(sum_direct_sum))"
   ]
  }
 ],
 "metadata": {
  "kernelspec": {
   "display_name": "Python 3",
   "language": "python",
   "name": "python3"
  },
  "language_info": {
   "codemirror_mode": {
    "name": "ipython",
    "version": 3
   },
   "file_extension": ".py",
   "mimetype": "text/x-python",
   "name": "python",
   "nbconvert_exporter": "python",
   "pygments_lexer": "ipython3",
   "version": "3.8.3"
  }
 },
 "nbformat": 4,
 "nbformat_minor": 4
}
