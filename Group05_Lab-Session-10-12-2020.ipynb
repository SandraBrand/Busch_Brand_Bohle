{
 "cells": [
  {
   "cell_type": "markdown",
   "metadata": {},
   "source": [
    "# Exercice Lab Session 10.12.2020\n",
    "\n",
    "- ternary operation \n",
    "    - blueprint\n",
    "- list comprehension \n",
    "    - blueprint: \n",
    "- Exercices\n",
    "\n",
    "    \n",
    "\n"
   ]
  },
  {
   "cell_type": "markdown",
   "metadata": {},
   "source": [
    "# 1. Ternary Operation: \n",
    "\n"
   ]
  },
  {
   "cell_type": "markdown",
   "metadata": {},
   "source": [
    "## 1.1. Blueprint: \n",
    "Ternary operators are more commonly known as conditional expressions in Python. These operators evaluate something based on a condition being true or not. \n",
    "\n",
    "Here is a blueprint and an example of using these conditional expressions.\n",
    "\n",
    "\n",
    "```python\n",
    "\n",
    "value_if_true if condition else value_if_false\n",
    "\n",
    "``` \n",
    "\n",
    "It allows to quickly test a condition instead of a multiline if statement. Often times it can be immensely helpful and can make your code compact but still maintainable.\n",
    "\n",
    "Example \n",
    "```python\n",
    "\n",
    "is_nice = True\n",
    "state = \"nice\" if is_nice else \"not nice\"\n",
    "\n",
    "\n",
    "```\n",
    "\n",
    "\n"
   ]
  },
  {
   "cell_type": "markdown",
   "metadata": {},
   "source": [
    "## 1.2. Example Ternary Operation \n",
    "Let's write an algorithm that asks for the user's age. If the user is minor (under the age of 18) then print 'you are not allowed here', otherwise print 'welcome'\n"
   ]
  },
  {
   "cell_type": "code",
   "execution_count": 8,
   "metadata": {},
   "outputs": [
    {
     "data": {
      "text/plain": [
       "'Welcome!'"
      ]
     },
     "execution_count": 8,
     "metadata": {},
     "output_type": "execute_result"
    }
   ],
   "source": [
    "# our code here \n",
    "#age = int(input(\"Welcome to Cinema, How old are you?\"))\n",
    "\n",
    "#if age >= 18:\n",
    "#   print(\"Welcome\")\n",
    "#else:\n",
    "#   print(\"You're not allowed here!\")\n",
    "\n",
    "#is_allowed = \"Welcome!\" if age >= 18 else \"You are not allowed here!\"\n",
    "#print(is_allowed)\n",
    "\n",
    "def is_allowed(age):\n",
    "    result = \"Welcome!\" if age >= 18 else \"You are not allowed here\"\n",
    "    return result\n",
    "\n",
    "is_allowed(19)\n"
   ]
  },
  {
   "cell_type": "markdown",
   "metadata": {},
   "source": [
    "## 1.3. Ternary exercice \n",
    "Place problem:\n",
    "As usual there are problem of not enough space left in the fridge. We want to write a simple program telling if all food will pass into the fridge. \n",
    "\n",
    "Task Overview:\n",
    "We have to write a function that accepts three parameters:\n",
    "\n",
    "cap is the amount items the fridge can hold.\n",
    "on is the number of items already in the fridge.\n",
    "wait is the number of items waiting to get into the fridge.\n",
    "If there is enough space, return 0, and if there isn't, return the number items we can't take.\n",
    "\n",
    "enough(10, 5, 5)\n",
    "0 # He can fit all 5 items\n",
    "enough(100, 60, 50)\n",
    "10 # He can't fit 10 out of 50 waiting"
   ]
  },
  {
   "cell_type": "code",
   "execution_count": 16,
   "metadata": {},
   "outputs": [
    {
     "name": "stdout",
     "output_type": "stream",
     "text": [
      "3\n"
     ]
    }
   ],
   "source": [
    "# do it first with a normal if (and not within a function)\n",
    "\n",
    "cap = 10\n",
    "on = 8\n",
    "wait = 5\n",
    "\n",
    "on_and_wait = on + wait\n",
    "if on_and_wait <= cap:\n",
    "    print(\"1\")\n",
    "else:\n",
    "    print(on_and_wait - cap)\n"
   ]
  },
  {
   "cell_type": "code",
   "execution_count": 19,
   "metadata": {},
   "outputs": [
    {
     "name": "stdout",
     "output_type": "stream",
     "text": [
      "3\n"
     ]
    }
   ],
   "source": [
    "# write it again as a ternary operation \n",
    "cap = 10\n",
    "on = 8\n",
    "wait = 5\n",
    "\n",
    "on_and_wait = on + wait\n",
    "wait_outside = on_and_wait - cap\n",
    "\n",
    "fridge_status = \"0\" if on_and_wait <= cap else wait_outside\n",
    "print(fridge_status)"
   ]
  },
  {
   "cell_type": "code",
   "execution_count": 24,
   "metadata": {},
   "outputs": [
    {
     "data": {
      "text/plain": [
       "5"
      ]
     },
     "execution_count": 24,
     "metadata": {},
     "output_type": "execute_result"
    }
   ],
   "source": [
    "# an now pack it into a function called enough(cap, on, wait) that return the expected values \n",
    "def enough(cap, on, wait):\n",
    "    \n",
    "    on_and_wait = on + wait\n",
    "    wait_outside = on_and_wait - cap\n",
    "    \n",
    "    fridge_status = \"0\" if on_and_wait <= cap else wait_outside\n",
    "    return fridge_status\n",
    "\n",
    "enough(15,10,10)"
   ]
  },
  {
   "cell_type": "markdown",
   "metadata": {},
   "source": [
    "# 2. List comprehension\n",
    " \n",
    "## 2.1. Blueprint\n",
    "List comprehensions provide a short and concise way to create lists. It consists of square brackets containing an expression followed by a for clause, then zero or more for or if clauses. The expressions can be anything, meaning you can put in all kinds of objects in lists. The result would be a new list made after the evaluation of the expression in context of the if and for clauses.\n",
    "\n",
    "```python\n",
    "\n",
    "variable = [out_exp for out_exp in input_list if out_exp == 2]\n",
    "\n",
    "```\n",
    "\n",
    "Note: List comprehension works logically with list. But you can also use comprehension with set, dictionary etc. [here for more](https://book.pythontips.com/en/latest/comprehensions.html?highlight=list%20comprehensio#)\n",
    "\n"
   ]
  },
  {
   "cell_type": "markdown",
   "metadata": {},
   "source": [
    "## 2.2. Example list comprehension: \n",
    "Let's write an algorithm that save all the passwords that contains the letter 't' in another list\n",
    "\n",
    "\n",
    "psswd = ['harley','batman','andrew','tigger','sunshine','iloveyou','2000','charlie','robert','thomas','hockey','ranger','daniel','starwars','klaster']"
   ]
  },
  {
   "cell_type": "code",
   "execution_count": 25,
   "metadata": {},
   "outputs": [
    {
     "name": "stdout",
     "output_type": "stream",
     "text": [
      "['batman', 'tigger', 'robert', 'thomas', 'starwars', 'klaster']\n"
     ]
    }
   ],
   "source": [
    "# again, write is as a normal algorithn with a normal for loop (not within a function)\n",
    "\n",
    "psswd = ['harley','batman','andrew','tigger','sunshine','iloveyou','2000','charlie','robert','thomas','hockey','ranger','daniel','starwars','klaster']\n",
    "psswd_with_t = []\n",
    "\n",
    "for password in psswd:\n",
    "    if 't' in password:\n",
    "        psswd_with_t.append(password)\n",
    "        \n",
    "print(psswd_with_t)\n"
   ]
  },
  {
   "cell_type": "code",
   "execution_count": 33,
   "metadata": {},
   "outputs": [
    {
     "name": "stdout",
     "output_type": "stream",
     "text": [
      "['batman', 'tigger', 'robert', 'thomas', 'starwars', 'klaster']\n"
     ]
    }
   ],
   "source": [
    "# write it again but this time in form of a list comprehension\n",
    "res_comprehension = [password for password in psswd if 't' in password]\n",
    "print(res_comprehension)"
   ]
  },
  {
   "cell_type": "code",
   "execution_count": 36,
   "metadata": {},
   "outputs": [
    {
     "data": {
      "text/plain": [
       "['batman', 'tigger', 'robert', 'thomas', 'starwars', 'klaster']"
      ]
     },
     "execution_count": 36,
     "metadata": {},
     "output_type": "execute_result"
    }
   ],
   "source": [
    "# let's pack it in a function called check_t(passwords) that return those passwords with 't' in it. \n",
    "\n",
    "passwords_2 = ['tomcat', 'august', 'buddy', 'airborne', '1993', '1988', 'lifehack', 'qqqqqq', 'brooklyn', 'animal', 'platinum', 'phantom', 'online', 'xavier', 'darkness', 'blink182', 'power', 'fish', 'green', '789456123', 'voyager', 'police', 'travis', '12qwaszx', 'heaven', 'snowball', 'lover', 'abcdef', '00000', 'pakistan', '007007', 'walter', 'playboy']\n",
    "\n",
    "def check_t(psswd):    \n",
    "    return res_comprehension\n",
    "\n",
    "check_t(passwords_2)"
   ]
  },
  {
   "cell_type": "markdown",
   "metadata": {},
   "source": [
    "## 2.3. List comprehension exercice\n",
    "\n",
    "1.1 Write an algorithm that save all even numbers from list into another list with for loop and then with a list comprehension. Put your algorithm into a function called get_even(list_nb) when you are done and return the result list. \n"
   ]
  },
  {
   "cell_type": "code",
   "execution_count": 41,
   "metadata": {},
   "outputs": [
    {
     "name": "stdout",
     "output_type": "stream",
     "text": [
      "[2, 38, 40, 44, 36]\n"
     ]
    }
   ],
   "source": [
    "# your code here \n",
    "# again, write is as a normal algorithn with a normal for loop (not within a function)\n",
    "\n",
    "nb_lst_1 = [2, 38, 49, 37, 43, 40, 49, 59, 44, 25, 36]\n",
    "nb_lst_2 = [29, 33, 32, 21, 48, 87, 96, 99, 22, 11, 13]\n",
    "\n",
    "res = []\n",
    "for nb in nb_lst_1:\n",
    "    if nb%2 == 0:\n",
    "        res.append(nb)\n",
    "print(res)"
   ]
  },
  {
   "cell_type": "code",
   "execution_count": 44,
   "metadata": {},
   "outputs": [
    {
     "name": "stdout",
     "output_type": "stream",
     "text": [
      "[2, 38, 40, 44, 36]\n"
     ]
    }
   ],
   "source": [
    "# write it again but this time in form of a list comprehension\n",
    "\n",
    "res_comp = [number for number in nb_lst_1 if number%2 == 0]\n",
    "print(res_comp)"
   ]
  },
  {
   "cell_type": "code",
   "execution_count": 48,
   "metadata": {},
   "outputs": [
    {
     "data": {
      "text/plain": [
       "[32, 48, 96, 22]"
      ]
     },
     "execution_count": 48,
     "metadata": {},
     "output_type": "execute_result"
    }
   ],
   "source": [
    "# let's pack it in a function get_even(list_nb) that return those even numbers\n",
    "\n",
    "def get_even(list_nb):\n",
    "    return [number for number in list_nb if number%2 == 0]\n",
    "\n",
    "get_even(nb_lst_2)"
   ]
  },
  {
   "cell_type": "markdown",
   "metadata": {},
   "source": [
    "# 3. Exercices\n",
    "\n",
    "## Exercice 1\n",
    "\n",
    "We want returns the _index_ of the numerical element that lies between the other two elements.\n",
    "\n",
    "The input to the function will always be an array of three distinct numbers.\n",
    "\n",
    "For example:\n",
    "\n",
    "gimme([2, 3, 1]) => 0\n",
    "\n",
    "2 is the number that fits between 1 and 3 and the index of 2 in the input array is 0.\n",
    "\n",
    "\n",
    "Another example (just to make sure it is clear):\n",
    "\n",
    "gimme([5, 10, 14]) => 1\n",
    "\n",
    "10 is the number that fits between 5 and 14 and the index of 10 in the input array is 1.\n",
    "\n",
    "\n",
    "__here are some functions that you might use here__\n",
    "```python\n",
    "min() # see above \n",
    "max() # see above \n",
    "\n",
    "my_list.index(value) # index()  will give you the index of 'value' if value is in the array. It will give a ValueError if the value is not in the list. \n",
    "\n",
    "```\n"
   ]
  },
  {
   "cell_type": "code",
   "execution_count": 51,
   "metadata": {},
   "outputs": [
    {
     "name": "stdout",
     "output_type": "stream",
     "text": [
      "0\n"
     ]
    }
   ],
   "source": [
    "# again, write is as a normal algorithn with a normal for loop (not within a function)\n",
    "\n",
    "my_list=[5,6,4]\n",
    "\n",
    "maxi = max(my_list)\n",
    "mini = min(my_list)\n",
    "\n",
    "for i in my_list:\n",
    "    if mini < i < maxi:\n",
    "        print(my_list.index(i))\n",
    "        \n"
   ]
  },
  {
   "cell_type": "code",
   "execution_count": 56,
   "metadata": {},
   "outputs": [
    {
     "name": "stdout",
     "output_type": "stream",
     "text": [
      "[]\n"
     ]
    }
   ],
   "source": [
    "# write it again but this time in form of a list comprehension\n",
    "\n",
    "middle = [i for i in my_list if mini < nb < maxi]\n",
    "print(middle)"
   ]
  },
  {
   "cell_type": "code",
   "execution_count": null,
   "metadata": {},
   "outputs": [],
   "source": [
    "# put it into a function\n",
    "\n"
   ]
  },
  {
   "cell_type": "markdown",
   "metadata": {},
   "source": [
    "## Exercice 2\n",
    "\n",
    "Write a function that return the sum of the even values of a sequence.\n",
    "\n",
    "Examples:\n",
    "\n",
    "[4, 3, 1, 2, 5, 10, 6, 7, 9, 8]  -->  30   # because 4 + 2 + 10 + 6 + 8 = 30\n",
    "\n",
    "[]                               -->  0\n",
    "\n",
    "\n"
   ]
  },
  {
   "cell_type": "code",
   "execution_count": 31,
   "metadata": {},
   "outputs": [
    {
     "name": "stdout",
     "output_type": "stream",
     "text": [
      "26\n"
     ]
    }
   ],
   "source": [
    "# your code here \n",
    "# [2,3,5,6,9,10,8] # should be  26\n",
    "\n",
    "my_list = [2,3,5,6,9,10,8]\n",
    "\n",
    "res = []\n",
    "\n",
    "for nb in my_list:\n",
    "    if nb%2 == 0:\n",
    "        res.append(nb)\n",
    "    summe = sum(res)\n",
    "print(summe)\n",
    "\n",
    "    "
   ]
  },
  {
   "cell_type": "code",
   "execution_count": 32,
   "metadata": {},
   "outputs": [
    {
     "name": "stdout",
     "output_type": "stream",
     "text": [
      "26\n"
     ]
    }
   ],
   "source": [
    "sum_even = [nb for nb in my_list if nb%2 == 0]\n",
    "res = sum(sum_even)\n",
    "print(res)"
   ]
  },
  {
   "cell_type": "code",
   "execution_count": 36,
   "metadata": {},
   "outputs": [],
   "source": [
    "def sum_even_numbers(my_list):\n",
    "    return res"
   ]
  },
  {
   "cell_type": "code",
   "execution_count": 35,
   "metadata": {},
   "outputs": [
    {
     "data": {
      "text/plain": [
       "26"
      ]
     },
     "execution_count": 35,
     "metadata": {},
     "output_type": "execute_result"
    }
   ],
   "source": [
    "sum_even_numbers([2,3,5,6,9,10,8])"
   ]
  },
  {
   "cell_type": "markdown",
   "metadata": {},
   "source": [
    "## Exercice 3\n",
    "IT-Bar recommends you drink 1 glass of water per standard drink so you're not hungover tomorrow morning.\n",
    "\n",
    "Your fellow coders have bought you several drinks tonight in the form of a string. Return a string suggesting how many glasses of water you should drink to not be hungover.\n",
    "\n",
    "Examples\n",
    "\n",
    "\"1 beer\"  -->  \"1 glass of water\"\n",
    "because you drank one standard drink\n",
    "\n",
    "\"1 shot, 5 beers, 2 shots, 1 glass of wine, 1 beer\"  -->  \"10 glasses of water\"\n",
    "because you drank ten standard drinks\n",
    "\n",
    "Note:\n",
    "\n",
    "To keep the things simple, we'll consider that any \"numbered thing\" in the string is a drink. Even \"1 bear\" -> \"1 glass of water\"; or \"1 chainsaw and 2 pools\" -> \"3 glasses of water\"...\n",
    "\n",
    "\n",
    "\n",
    "\n",
    "__here are some functions that you might use here__\n",
    "```python\n",
    "var.isdigit() # return True it the variable 'var' is a digig, False if 'var' is not a digit\n",
    "\n",
    "var1 = 5 \n",
    "var1.isdigit() # will return True because 5 is a digit \n",
    "\n",
    "var2 = 'n'\n",
    "var2.isdigit() # will return False because 'n' is not a digit \n",
    "\n",
    "var3 = 'test'\n",
    "var3.isdigit() # will return False because 'test' is not a digit \n",
    "```\n",
    "\n"
   ]
  },
  {
   "cell_type": "code",
   "execution_count": 2,
   "metadata": {},
   "outputs": [
    {
     "name": "stdout",
     "output_type": "stream",
     "text": [
      "10\n"
     ]
    }
   ],
   "source": [
    "# your code here \n",
    "\n",
    "# als erstes müssen die Zahlen herausgefilter werden und in eine neue Liste gepackt werden\n",
    "# danach muss die summe aus den Zahlen in der Liste gebildet werden\n",
    "\n",
    "var1 = \"1 shot, 5 beers, 2 shots, 1 glass of wine, 1 beer\"\n",
    "\n",
    "order = var1.split()\n",
    "\n",
    "drinks = []\n",
    "\n",
    "for i in order:\n",
    "    if i.isdigit():\n",
    "        drinks.append(int(i))\n",
    "    water = sum(drinks)\n",
    "print(water)\n",
    "        "
   ]
  },
  {
   "cell_type": "code",
   "execution_count": 4,
   "metadata": {},
   "outputs": [],
   "source": [
    "def hydrate(var1):\n",
    "    order = var1.split()\n",
    "\n",
    "    drinks = []\n",
    "\n",
    "    for i in order:\n",
    "        if i.isdigit():\n",
    "            drinks.append(int(i))\n",
    "    water = sum(drinks)\n",
    "    return water\n",
    "    "
   ]
  },
  {
   "cell_type": "code",
   "execution_count": 78,
   "metadata": {},
   "outputs": [
    {
     "data": {
      "text/plain": [
       "25"
      ]
     },
     "execution_count": 78,
     "metadata": {},
     "output_type": "execute_result"
    }
   ],
   "source": [
    "hydrate(\"6 beer horns and 1 shots of rum, 5 shots of rum, 4 shots of rum, 1 beers, 5 cups of coffee, 1 beer horns, 2 shots\")        "
   ]
  },
  {
   "cell_type": "code",
   "execution_count": 10,
   "metadata": {},
   "outputs": [
    {
     "data": {
      "text/plain": [
       "10"
      ]
     },
     "execution_count": 10,
     "metadata": {},
     "output_type": "execute_result"
    }
   ],
   "source": [
    "#hydrate(\"1 beer\") # \"1 glass of water\"\n",
    "hydrate(\"1 shot, 5 beers, 2 shots, 1 glass of wine, 1 beer\") # \"10 glasses of water\"\n",
    "#hydrate(\"6 beer horns and 1 shots of rum, 5 shots of rum, 4 shots of rum, 1 beers, 5 cups of coffee, 1 beer horns, 2 shots\")  # \"25 glasses of water\"\n",
    "\n"
   ]
  },
  {
   "cell_type": "markdown",
   "metadata": {},
   "source": [
    "## Exercice 4\n",
    "\n",
    "From an Integer list, create a new list by adding each consecutive pair of the list.\n",
    "\n",
    "Examples: \n",
    "\n",
    "[1, 1, 1, 1]  -->  [2, 2, 2]  #  [1+1, 1+1, 1+1]\n",
    "\n",
    "\n",
    "[1, 2, 3, 4]  -->  [3, 5, 7]  #  [1+2, 2+3, 3+4]\n",
    "\n",
    "\n",
    "[1, 10, 100]  -->  [11, 110]  #  [1+10, 10+100]\n",
    "\n"
   ]
  },
  {
   "cell_type": "code",
   "execution_count": 15,
   "metadata": {},
   "outputs": [
    {
     "name": "stdout",
     "output_type": "stream",
     "text": [
      "[1, 2, 3, 5]\n"
     ]
    }
   ],
   "source": [
    "# your code here \n",
    "\n",
    "# als erstes müssen die stellen in der Liste herausgefunden werden\n",
    "# dann müssen die Werte auf den Stellen addiert werden 1.Stelle+2.Stelle, 2.+3., 3.+4.\n",
    "\n",
    "\n",
    "l = [1,1,1,1]\n",
    "\n",
    "new_l = []\n",
    "for i in range(len(l)):\n",
    "    x = i + l[i]\n",
    "    new_l.append(x)\n",
    "print(new_l)\n",
    "    \n",
    "    \n"
   ]
  },
  {
   "cell_type": "code",
   "execution_count": null,
   "metadata": {},
   "outputs": [],
   "source": [
    "make_new_list([1,2,3,4])"
   ]
  },
  {
   "cell_type": "markdown",
   "metadata": {},
   "source": [
    "## Exercice 5 \n",
    "Given an array of integers , Find the maximum product obtained from multiplying 2 adjacent numbers in the array.\n",
    "\n",
    "Notes\n",
    "Array/list size is at least 2.\n",
    "\n",
    "Array/list numbers could be a mixture of positives, negatives also zeroes .\n",
    "\n",
    "Examples: \n",
    "\n",
    "adjacentElementsProduct([1, 2, 3]); ==> return 6\n",
    "\n",
    "Explanation:\n",
    "\n",
    "The maximum product obtained from multiplying 2 * 3 = 6, and they're adjacent numbers in the array.\n",
    "\n",
    "\n",
    "\n",
    "adjacentElementsProduct([9, 5, 10, 2, 24, -1, -48]); ==> return 50\n",
    "\n",
    "Explanation:\n",
    "\n",
    "Max product obtained from multiplying 5 * 10 = 50.\n",
    "\n",
    "__here are some functions that you might use here__\n",
    "```python\n",
    "max() # return the max from a list\n",
    "max([2,3,4,5]) # will return 5 because 5 is the max in the list \n",
    "\n",
    "min() # same as max but it will return the minimum \n",
    "```\n"
   ]
  },
  {
   "cell_type": "code",
   "execution_count": 16,
   "metadata": {},
   "outputs": [],
   "source": [
    "# this is the help function to test our answers (just run it)\n",
    "def assert_equals(a, b):\n",
    "    if a==b:\n",
    "        print(True)\n",
    "    else:\n",
    "        print(False)\n",
    "        \n",
    "        "
   ]
  },
  {
   "cell_type": "code",
   "execution_count": null,
   "metadata": {},
   "outputs": [],
   "source": [
    "# your code here \n",
    "\n"
   ]
  },
  {
   "cell_type": "code",
   "execution_count": 17,
   "metadata": {},
   "outputs": [
    {
     "ename": "NameError",
     "evalue": "name 'adjacent_element_product' is not defined",
     "output_type": "error",
     "traceback": [
      "\u001b[1;31m---------------------------------------------------------------------------\u001b[0m",
      "\u001b[1;31mNameError\u001b[0m                                 Traceback (most recent call last)",
      "\u001b[1;32m<ipython-input-17-a4f35ccff6d3>\u001b[0m in \u001b[0;36m<module>\u001b[1;34m\u001b[0m\n\u001b[0;32m      1\u001b[0m \u001b[1;31m# this is for testing our answer\u001b[0m\u001b[1;33m\u001b[0m\u001b[1;33m\u001b[0m\u001b[1;33m\u001b[0m\u001b[0m\n\u001b[0;32m      2\u001b[0m \u001b[1;33m\u001b[0m\u001b[0m\n\u001b[1;32m----> 3\u001b[1;33m \u001b[0massert_equals\u001b[0m\u001b[1;33m(\u001b[0m\u001b[0madjacent_element_product\u001b[0m\u001b[1;33m(\u001b[0m\u001b[1;33m[\u001b[0m\u001b[1;36m5\u001b[0m\u001b[1;33m,\u001b[0m \u001b[1;36m8\u001b[0m\u001b[1;33m]\u001b[0m\u001b[1;33m)\u001b[0m\u001b[1;33m,\u001b[0m \u001b[1;36m40\u001b[0m\u001b[1;33m)\u001b[0m\u001b[1;33m\u001b[0m\u001b[1;33m\u001b[0m\u001b[0m\n\u001b[0m\u001b[0;32m      4\u001b[0m \u001b[0massert_equals\u001b[0m\u001b[1;33m(\u001b[0m\u001b[0madjacent_element_product\u001b[0m\u001b[1;33m(\u001b[0m\u001b[1;33m[\u001b[0m\u001b[1;36m1\u001b[0m\u001b[1;33m,\u001b[0m \u001b[1;36m2\u001b[0m\u001b[1;33m,\u001b[0m \u001b[1;36m3\u001b[0m\u001b[1;33m]\u001b[0m\u001b[1;33m)\u001b[0m\u001b[1;33m,\u001b[0m \u001b[1;36m6\u001b[0m\u001b[1;33m)\u001b[0m\u001b[1;33m\u001b[0m\u001b[1;33m\u001b[0m\u001b[0m\n\u001b[0;32m      5\u001b[0m \u001b[0massert_equals\u001b[0m\u001b[1;33m(\u001b[0m\u001b[0madjacent_element_product\u001b[0m\u001b[1;33m(\u001b[0m\u001b[1;33m[\u001b[0m\u001b[1;36m1\u001b[0m\u001b[1;33m,\u001b[0m \u001b[1;36m5\u001b[0m\u001b[1;33m,\u001b[0m \u001b[1;36m10\u001b[0m\u001b[1;33m,\u001b[0m \u001b[1;36m9\u001b[0m\u001b[1;33m]\u001b[0m\u001b[1;33m)\u001b[0m\u001b[1;33m,\u001b[0m \u001b[1;36m90\u001b[0m\u001b[1;33m)\u001b[0m\u001b[1;33m\u001b[0m\u001b[1;33m\u001b[0m\u001b[0m\n",
      "\u001b[1;31mNameError\u001b[0m: name 'adjacent_element_product' is not defined"
     ]
    }
   ],
   "source": [
    "# this is for testing our answer\n",
    "\n",
    "assert_equals(adjacent_element_product([5, 8]), 40)\n",
    "assert_equals(adjacent_element_product([1, 2, 3]), 6)\n",
    "assert_equals(adjacent_element_product([1, 5, 10, 9]), 90)\n",
    "assert_equals(adjacent_element_product([4, 12, 3, 1, 5]), 48)\n",
    "assert_equals(adjacent_element_product([5, 1, 2, 3, 1, 4]), 6)\n",
    "\n",
    "# \"Both positive and negative values\"\n",
    "assert_equals(adjacent_element_product([3, 6, -2, -5, 7, 3]), 21)\n",
    "assert_equals(adjacent_element_product([9, 5, 10, 2, 24, -1, -48]), 50)\n",
    "assert_equals(adjacent_element_product([5, 6, -4, 2, 3, 2, -23]), 30)\n",
    "assert_equals(adjacent_element_product([-23, 4, -5, 99, -27, 329, -2, 7, -921]), -14)\n",
    "assert_equals(adjacent_element_product([5, 1, 2, 3, 1, 4]), 6)\n",
    "\n",
    "# \"Contains zeroes\"\n",
    "assert_equals(adjacent_element_product([1, 0, 1, 0, 1000]), 0)\n",
    "assert_equals(adjacent_element_product([1, 2, 3, 0]), 6)"
   ]
  },
  {
   "cell_type": "markdown",
   "metadata": {},
   "source": [
    "## Exercice 6\n",
    "\n",
    "Your task is to write a function called valid_spacing() or validSpacing() which checks if a string has valid spacing. The function should return either True or False.\n",
    "\n",
    "For this kata, the definition of valid spacing is one space between words, and no leading or trailing spaces. Below are some examples of what the function should return.\n",
    "\n"
   ]
  },
  {
   "cell_type": "code",
   "execution_count": null,
   "metadata": {},
   "outputs": [],
   "source": [
    "# your code here \n"
   ]
  },
  {
   "cell_type": "code",
   "execution_count": null,
   "metadata": {},
   "outputs": [],
   "source": [
    "assert_equals(valid_spacing('Hello world'),True)\n",
    "assert_equals(valid_spacing(' Hello world'),False)\n",
    "assert_equals(valid_spacing('Hello  world '),False)\n",
    "assert_equals(valid_spacing('Hello'),True)\n",
    "assert_equals(valid_spacing('Helloworld'),True)\n",
    "assert_equals(valid_spacing(''),True)\n",
    "assert_equals(valid_spacing(' '),False)"
   ]
  }
 ],
 "metadata": {
  "kernelspec": {
   "display_name": "Python 3",
   "language": "python",
   "name": "python3"
  },
  "language_info": {
   "codemirror_mode": {
    "name": "ipython",
    "version": 3
   },
   "file_extension": ".py",
   "mimetype": "text/x-python",
   "name": "python",
   "nbconvert_exporter": "python",
   "pygments_lexer": "ipython3",
   "version": "3.8.3"
  }
 },
 "nbformat": 4,
 "nbformat_minor": 4
}
