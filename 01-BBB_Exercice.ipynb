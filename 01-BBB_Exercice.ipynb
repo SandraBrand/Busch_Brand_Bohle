{
 "cells": [
  {
   "cell_type": "markdown",
   "metadata": {},
   "source": [
    "# Exercice 01:\n",
    "\n",
    "The following exercice requires some understanding in the following subjects: \n",
    "- understand the notion of variable and data-types\n",
    "- read the user inputs \n",
    "- understand conditions in python\n",
    "\n"
   ]
  },
  {
   "cell_type": "markdown",
   "metadata": {},
   "source": [
    "## 1. Review: \n",
    "\n",
    "### 1.a. Create two variables `time` and `distance` with the following values \"6.89\" and \"16.7\" . Compute the speed and save it in a variable called `speed` and print then the speed. "
   ]
  },
  {
   "cell_type": "code",
   "execution_count": 19,
   "metadata": {},
   "outputs": [
    {
     "name": "stdout",
     "output_type": "stream",
     "text": [
      "2.423802612481858\n"
     ]
    }
   ],
   "source": [
    "# declare the two variables time and distance\n",
    "# time = 6.89\n",
    "# distance = 16.\n",
    "time=6.89\n",
    "distance=16.7\n",
    "\n",
    "speed = distance / time\n",
    "\n",
    "print(speed)"
   ]
  },
  {
   "cell_type": "markdown",
   "metadata": {},
   "source": [
    "### 1.b. Create a list called `special_lst` with the following values: [12,8,9,13,11,10]. Compute the average value of all the value of the list with index and save it to a variable called `avg_special_lst` . "
   ]
  },
  {
   "cell_type": "code",
   "execution_count": 20,
   "metadata": {},
   "outputs": [
    {
     "name": "stdout",
     "output_type": "stream",
     "text": [
      "10.5\n"
     ]
    }
   ],
   "source": [
    "# create the list and then compute its average value\n",
    "special_lst=[12,8,9,13,11,10]\n",
    "\n",
    "avg_special_lst = sum(special_lst) / len(special_lst)\n",
    "\n",
    "print(avg_special_lst)"
   ]
  },
  {
   "cell_type": "code",
   "execution_count": 56,
   "metadata": {},
   "outputs": [
    {
     "name": "stdout",
     "output_type": "stream",
     "text": [
      "True\n",
      "True\n",
      "True\n",
      "False\n",
      "True\n",
      "True\n",
      "False\n",
      "True\n"
     ]
    }
   ],
   "source": [
    "### 1.c. Given the following variables: \n",
    "\n",
    "\n",
    "tiger = 'cat'\n",
    "lion = 'cat'\n",
    "kitty = 'cat'\n",
    "cheetah = 'cat' \n",
    "hyena = 'dog'\n",
    "wolf = 'dog' \n",
    "husky = 'dog'\n",
    "owl = 'bird' \n",
    "pigeon = 'bird'\n",
    "duck = 'bird'\n",
    "\n",
    "\n",
    "\n",
    "\n",
    "tiger_is_not_a_dog = (tiger != 'dog')\n",
    "print(tiger_is_not_a_dog)\n",
    "\n",
    "a_duck_is_not_a_cat  = (duck != 'cat')\n",
    "print(a_duck_is_not_a_cat)\n",
    "\n",
    "a_pigeon_is_neither_a_cat_nor_a_dog = ((pigeon != 'cat') or (pigeon != 'dog'))\n",
    "print(a_pigeon_is_neither_a_cat_nor_a_dog)\n",
    "\n",
    "a_wolf_is_a_bird = (wolf == 'bird')\n",
    "print(a_wolf_is_a_bird)\n",
    "\n",
    "a_duck_is_a_pigeon = (duck == 'bird')\n",
    "print(a_duck_is_a_pigeon)\n",
    "\n",
    "owl_is_a_duck_or_a_cheetah  =(owl == duck) or (owl == cheetah)\n",
    "print(owl_is_a_duck_or_a_cheetah)\n",
    "\n",
    "husky_is_a_bird_or_duck_is_a_cat = (husky == 'bird') or (duck == 'cat')\n",
    "print(husky_is_a_bird_or_duck_is_a_cat)\n",
    "\n",
    "owl_is_a_duck_and_hyena_is_a_wolf = (owl == duck) and (hyena == wolf)\n",
    "print(owl_is_a_duck_and_hyena_is_a_wolf)\n",
    "\n",
    "\n",
    "\n"
   ]
  },
  {
   "cell_type": "markdown",
   "metadata": {},
   "source": [
    "## 2. Conditions\n",
    "### 2.a. Ask the user for an input (as Integer), save it to a variable called `user_number` and print if the entered number is an *odd* or an *even* number. \n"
   ]
  },
  {
   "cell_type": "code",
   "execution_count": 26,
   "metadata": {},
   "outputs": [
    {
     "name": "stdin",
     "output_type": "stream",
     "text": [
      "Give number 14\n"
     ]
    },
    {
     "name": "stdout",
     "output_type": "stream",
     "text": [
      "even\n"
     ]
    }
   ],
   "source": [
    "# Scenario examples: \n",
    "# user inpt: 3\n",
    "# response: 3 it is an odd number \n",
    "# -----------------------------------\n",
    "# user input: 14\n",
    "# response: 14 is an even number\n",
    "# -----------------------------------\n",
    "\n",
    "=  ((piegon != 'cat') and (piegon != 'dog'))\n",
    "\n",
    "# get the user_number\n",
    "\n",
    "user_number = int(input(\"Give number\"))\n",
    "# check if user_number is even. \n",
    "if user_number % 2:\n",
    "    print(\"odd\")\n",
    "else:\n",
    "    print(\"even\")\n",
    "\n"
   ]
  },
  {
   "cell_type": "markdown",
   "metadata": {},
   "source": [
    "### 2.b. Ask the user for 3 integer inputs `val_1`, `val_2` and `val_3` .  Create also a variable `val_min`. And then whith the help of if (elif, else) statement ,make the variable `val_min`get the *minimum value* of the `val_1` , `val_2` and `val_3` (without using any other method or function, ONLY with IF and ELIF) "
   ]
  },
  {
   "cell_type": "code",
   "execution_count": 28,
   "metadata": {},
   "outputs": [
    {
     "name": "stdin",
     "output_type": "stream",
     "text": [
      "Give 1. number! 8\n",
      "Give 2. number! 9\n",
      "Give 3. number! 6\n"
     ]
    },
    {
     "name": "stdout",
     "output_type": "stream",
     "text": [
      "6\n"
     ]
    }
   ],
   "source": [
    "# for example ilf val_1 = 3, val_2 = 4 and val_3 = 7 then val_min shoud be 3\n",
    "val_1 = int(input(\"Give 1. number!\"))\n",
    "val_2 = int(input(\"Give 2. number!\"))\n",
    "val_3 = int(input(\"Give 3. number!\"))\n",
    "\n",
    "if val_1 < val_2 < val_3:\n",
    "    val_min = val_1\n",
    "    print(val_min)\n",
    "    \n",
    "elif val_2 < val_3 < val_1:\n",
    "    val_min = val_2\n",
    "    print(val_min)\n",
    "    \n",
    "else:\n",
    "    val_min = val_3\n",
    "    print(val_min)"
   ]
  },
  {
   "cell_type": "markdown",
   "metadata": {},
   "source": [
    "### 2.b. Ask the user for an input (Integer), save it to a variable called `user_number` and print if the entered number is a negative or a positive number \n"
   ]
  },
  {
   "cell_type": "code",
   "execution_count": 32,
   "metadata": {},
   "outputs": [
    {
     "name": "stdin",
     "output_type": "stream",
     "text": [
      "Give number! 0\n"
     ]
    },
    {
     "name": "stdout",
     "output_type": "stream",
     "text": [
      "positive\n"
     ]
    }
   ],
   "source": [
    "# ask for the number \n",
    "user_number= int(input(\"Give number!\"))\n",
    "\n",
    "if user_number >= 0: \n",
    "    print('positive')\n",
    "    \n",
    "else:\n",
    "    print('negative')"
   ]
  },
  {
   "cell_type": "markdown",
   "metadata": {},
   "source": [
    "### 2.c. We want to securise a pressurized cabins: \n",
    "The max pressure is : pMax = 2.3, and the max area is aMax = 7.41.\n",
    "Ask the user for the actual pression and area\n",
    "- if both, the area and the pression are higher than the pMax and aMax, then write: \"stop immediately\"\n",
    "- if the pressure is higher than the pMax, then write: \"Please, add more area!\"\n",
    "- if the area is higher the aMax, then write: \"Please, lower the area!\"\n",
    "- else, write: \"everything is fine!\" \n"
   ]
  },
  {
   "cell_type": "code",
   "execution_count": 35,
   "metadata": {},
   "outputs": [
    {
     "name": "stdin",
     "output_type": "stream",
     "text": [
      "Give pressure! 2.1\n",
      "Give area! 10.4\n"
     ]
    },
    {
     "name": "stdout",
     "output_type": "stream",
     "text": [
      "Please, lower area!\n"
     ]
    }
   ],
   "source": [
    "# declare the pMax=2.3 and aMax=7.41\n",
    "\n",
    "pMax = 2.3 \n",
    "aMax = 7.41\n",
    "\n",
    "# ask for the actual area and volume\n",
    "\n",
    "user_pressure= float(input(\"Give pressure!\"))\n",
    "user_area= float(input(\"Give area!\"))\n",
    "\n",
    "if user_pressure > pMax and user_area > aMax:\n",
    "    print(\"stop immediately!\")\n",
    "    \n",
    "elif user_pressure > pMax:\n",
    "    print(\"Please, add more area!\")\n",
    "    \n",
    "elif user_area > aMax:\n",
    "    print(\"Please, lower the area!\")\n",
    "    \n",
    "else:\n",
    "    print(\"everything is fine!\")\n",
    "    "
   ]
  },
  {
   "cell_type": "code",
   "execution_count": null,
   "metadata": {},
   "outputs": [],
   "source": []
  }
 ],
 "metadata": {
  "kernelspec": {
   "display_name": "Python 3",
   "language": "python",
   "name": "python3"
  },
  "language_info": {
   "codemirror_mode": {
    "name": "ipython",
    "version": 3
   },
   "file_extension": ".py",
   "mimetype": "text/x-python",
   "name": "python",
   "nbconvert_exporter": "python",
   "pygments_lexer": "ipython3",
   "version": "3.8.3"
  }
 },
 "nbformat": 4,
 "nbformat_minor": 4
}
